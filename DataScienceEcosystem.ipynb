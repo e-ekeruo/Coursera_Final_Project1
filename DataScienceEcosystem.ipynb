{
 "cells": [
  {
   "cell_type": "markdown",
   "id": "dac361ad-94a0-438d-9feb-bac6c5a2d490",
   "metadata": {},
   "source": [
    "# Data Science Tools and Ecosystem "
   ]
  },
  {
   "cell_type": "markdown",
   "id": "08e11e0b-b58f-413a-b091-3ee1e3c5234b",
   "metadata": {},
   "source": [
    "In this notebook, Data Science Tools and Ecosystem are summaried "
   ]
  },
  {
   "cell_type": "markdown",
   "id": "ab3d15f6-1e1e-4f22-9631-d4e9f5cc1994",
   "metadata": {},
   "source": [
    "**Objectives**\n",
    "- List popular languages for Data Science\n",
    "- List libraries used for Data Science\n",
    "- List Data Science Tools\n",
    "- Practice Arthmetic functions in Python "
   ]
  },
  {
   "cell_type": "markdown",
   "id": "b2e0ac1c-30d2-4636-b4c8-d881eccc8352",
   "metadata": {},
   "source": [
    "Some of the popoular languages that Data Sceintists use are:  \n",
    "1. Python\n",
    "2. R Language\n",
    "3. SQL"
   ]
  },
  {
   "cell_type": "markdown",
   "id": "798c4fc4-f1b7-4824-bf6e-a12096381da4",
   "metadata": {},
   "source": [
    "Some of the commonely used libraries used by Data Scientist include:\n",
    "1. TensorFlow\n",
    "2. Pandas\n",
    "3. PyTorch"
   ]
  },
  {
   "cell_type": "markdown",
   "id": "2fb472de-b543-4cdf-9b03-783427b49fe6",
   "metadata": {},
   "source": [
    "| Data Sceince Tools |\n",
    "| -------------------- |\n",
    "| Jupyter |\n",
    "| RStudio |\n",
    "| Apache | "
   ]
  },
  {
   "cell_type": "markdown",
   "id": "3479d259-0a5b-4668-a0fe-0371fc3d1e3a",
   "metadata": {},
   "source": [
    "Below are a few examples of evaluating arithmetic expressions in Python"
   ]
  },
  {
   "cell_type": "code",
   "execution_count": 12,
   "id": "6173dd53-025e-43ad-a302-fc030c10346c",
   "metadata": {},
   "outputs": [
    {
     "data": {
      "text/plain": [
       "17"
      ]
     },
     "execution_count": 12,
     "metadata": {},
     "output_type": "execute_result"
    }
   ],
   "source": [
    "#this is a simple arithmetic expression to multiply then dd integers\n",
    "(3*4)+5"
   ]
  },
  {
   "cell_type": "code",
   "execution_count": 13,
   "id": "ee747628-6eb8-4afd-b134-f495d2877fc4",
   "metadata": {},
   "outputs": [
    {
     "data": {
      "text/plain": [
       "3.3333333333333335"
      ]
     },
     "execution_count": 13,
     "metadata": {},
     "output_type": "execute_result"
    }
   ],
   "source": [
    "#this will convert 200 minutes to hours by dividing by 60\n",
    "200/60"
   ]
  },
  {
   "cell_type": "markdown",
   "id": "a2adf803-f90e-47bc-ba14-d942715db57f",
   "metadata": {},
   "source": [
    "## Author\n",
    "Elizabeth Ekeruo"
   ]
  },
  {
   "cell_type": "code",
   "execution_count": null,
   "id": "5e3e76d9-d7ca-4ab0-a347-cb8e531094dd",
   "metadata": {},
   "outputs": [],
   "source": []
  }
 ],
 "metadata": {
  "kernelspec": {
   "display_name": "Python 3 (ipykernel)",
   "language": "python",
   "name": "python3"
  },
  "language_info": {
   "codemirror_mode": {
    "name": "ipython",
    "version": 3
   },
   "file_extension": ".py",
   "mimetype": "text/x-python",
   "name": "python",
   "nbconvert_exporter": "python",
   "pygments_lexer": "ipython3",
   "version": "3.13.0"
  }
 },
 "nbformat": 4,
 "nbformat_minor": 5
}
